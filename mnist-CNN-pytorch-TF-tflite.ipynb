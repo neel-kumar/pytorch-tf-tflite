{
 "cells": [
  {
   "cell_type": "markdown",
   "metadata": {},
   "source": [
    "# From PyTorch to TensorFlow to Coral TPU\n",
    "## Introduction\n",
    "### In this article I will be showing you how to convert a PyTorch model to a TensorFlow model and run a TensorFlow model on a Coral TPU. To demonstrate this I will be testing the model son the mnist dataset which consits of handwritten digits. Also, you should know Python and some PyTorch.  This is the link for the original model: https://github.com/neel-kumar/deep-learning-mnist/blob/master/mnist-CNN.ipynb"
   ]
  },
  {
   "cell_type": "code",
   "execution_count": 1,
   "metadata": {},
   "outputs": [],
   "source": [
    "import os\n",
    "from PIL import Image\n",
    "import tensorflow as tf\n",
    "\n",
    "from tensorflow.keras import datasets, layers, models\n",
    "import matplotlib.pyplot as plt\n",
    "import numpy as np\n",
    "from datetime import datetime"
   ]
  },
  {
   "cell_type": "code",
   "execution_count": 2,
   "metadata": {},
   "outputs": [],
   "source": [
    "def open_jpg(filename):\n",
    "    return Image.open(filename)"
   ]
  },
  {
   "cell_type": "code",
   "execution_count": 3,
   "metadata": {},
   "outputs": [],
   "source": [
    "def save_jpg(a, filename):\n",
    "    ia = (a * 255).astype(np.uint8)\n",
    "    ia = np.reshape(ia, (28,28))\n",
    "    Image.fromarray(ia).save(filename)"
   ]
  },
  {
   "cell_type": "code",
   "execution_count": 4,
   "metadata": {},
   "outputs": [],
   "source": [
    "def show_img(a, dim=(28, 28)):\n",
    "    img = np.reshape(a, dim)\n",
    "    imgplot = plt.imshow(img, cmap = \"gray\")\n",
    "    plt.show()"
   ]
  },
  {
   "cell_type": "code",
   "execution_count": 5,
   "metadata": {},
   "outputs": [
    {
     "name": "stdout",
     "output_type": "stream",
     "text": [
      "GPU found\n",
      "/device:GPU:0\n"
     ]
    }
   ],
   "source": [
    "# https://stackoverflow.com/questions/37660312/how-to-run-tensorflow-on-cpu\n",
    "\n",
    "# Uncomment following to disable GPU\n",
    "# os.environ['CUDA_VISIBLE_DEVICES'] = '-1'\n",
    "\n",
    "if tf.test.gpu_device_name():\n",
    "    print('GPU found')\n",
    "else:\n",
    "    print(\"No GPU found\")\n",
    "\n",
    "print(tf.test.gpu_device_name())"
   ]
  },
  {
   "cell_type": "markdown",
   "metadata": {},
   "source": [
    "## Keras Model\n",
    "### TensorFlow includes an API called Keras which helps you build Neural Networks at the high level. This means that you only have to specify a few things and the rest it taken care by the computer. I chose to do this becase Keras provided me with all of the controlls I could need while not being that complicated. Alright now lets go through the model in the cell just below(If you want to see the original model go to the link at the top). Please note that this inside of a function so that if we want this model we just call the function and it creates the model. \n",
    "### Now lets look at the model. First we give it a name, which is in this case \"mnist-CNN-tf\". All the other layers are then added to the empty model to create the final model. \n",
    "- Line 2: Create the model and give it a name\n",
    "- Line 3: Conv2D\n",
    "- Line 4: Average Pool\n",
    "- Line 5: Conv2D\n",
    "- Line 6: Flattens the layer\n",
    "- Line 7: Dense is a linear layer\n",
    "- Line 8: Dense is output layer"
   ]
  },
  {
   "cell_type": "code",
   "execution_count": 6,
   "metadata": {},
   "outputs": [],
   "source": [
    "def get_model():\n",
    "    model = models.Sequential(name = \"mnist-CNN-tf\")\n",
    "    model.add(layers.Conv2D(8, 3, padding = 'same', activation='relu', input_shape=(28, 28, 1), name = \"layer1\"))\n",
    "    model.add(layers.AveragePooling2D((2, 2), name = \"layer2\"))\n",
    "    model.add(layers.Conv2D(13, 3, padding = 'same', activation='relu', name = \"layer3\"))\n",
    "    model.add(layers.Flatten(name = \"layer4\"))\n",
    "    model.add(layers.Dense(14*14*13, name = \"layer5\"))\n",
    "    model.add(layers.Dense(10, name = \"layer6\"))\n",
    "    return model"
   ]
  },
  {
   "cell_type": "code",
   "execution_count": 7,
   "metadata": {
    "scrolled": true
   },
   "outputs": [
    {
     "name": "stdout",
     "output_type": "stream",
     "text": [
      "Model: \"mnist-CNN-tf\"\n",
      "_________________________________________________________________\n",
      "Layer (type)                 Output Shape              Param #   \n",
      "=================================================================\n",
      "layer1 (Conv2D)              (None, 28, 28, 8)         80        \n",
      "_________________________________________________________________\n",
      "layer2 (AveragePooling2D)    (None, 14, 14, 8)         0         \n",
      "_________________________________________________________________\n",
      "layer3 (Conv2D)              (None, 14, 14, 13)        949       \n",
      "_________________________________________________________________\n",
      "layer4 (Flatten)             (None, 2548)              0         \n",
      "_________________________________________________________________\n",
      "layer5 (Dense)               (None, 2548)              6494852   \n",
      "_________________________________________________________________\n",
      "layer6 (Dense)               (None, 10)                25490     \n",
      "=================================================================\n",
      "Total params: 6,521,371\n",
      "Trainable params: 6,521,371\n",
      "Non-trainable params: 0\n",
      "_________________________________________________________________\n"
     ]
    }
   ],
   "source": [
    "model = get_model()\n",
    "model.summary()"
   ]
  },
  {
   "cell_type": "code",
   "execution_count": 8,
   "metadata": {},
   "outputs": [],
   "source": [
    "mnist = tf.keras.datasets.mnist\n",
    "\n",
    "(x_train, y_train), (x_test, y_test) = mnist.load_data()\n",
    "#x_train, x_test = x_train / 255.0, x_test / 255.0"
   ]
  },
  {
   "cell_type": "code",
   "execution_count": 9,
   "metadata": {
    "scrolled": true
   },
   "outputs": [],
   "source": [
    "save_jpg(x_test[1], \"files_0.jpg\")\n",
    "#a = x_test[0] * 255\n",
    "#ia = (a * 255).astype(np.uint8)\n",
    "#ia = np.reshape(ia, (28,28))\n",
    "# import pdb; pdb.set_trace()\n",
    "#Image.fromarray(ia)"
   ]
  },
  {
   "cell_type": "code",
   "execution_count": 10,
   "metadata": {
    "scrolled": true
   },
   "outputs": [
    {
     "data": {
      "image/png": "[encoded data removed]",
      "text/plain": [
       "<Figure size 432x288 with 1 Axes>"
      ]
     },
     "metadata": {
      "needs_background": "light"
     },
     "output_type": "display_data"
    }
   ],
   "source": [
    "show_img(x_test[10])"
   ]
  },
  {
   "cell_type": "code",
   "execution_count": 11,
   "metadata": {},
   "outputs": [
    {
     "data": {
      "text/plain": [
       "(60000, 28, 28)"
      ]
     },
     "execution_count": 11,
     "metadata": {},
     "output_type": "execute_result"
    }
   ],
   "source": [
    "x_train.shape"
   ]
  },
  {
   "cell_type": "code",
   "execution_count": 12,
   "metadata": {},
   "outputs": [],
   "source": [
    "x_train, x_test = x_train / 255.0, x_test / 255.0\n",
    "x_train = x_train.reshape(-1, 28, 28, 1)\n",
    "x_test = x_test.reshape(-1, 28, 28, 1)"
   ]
  },
  {
   "cell_type": "code",
   "execution_count": 13,
   "metadata": {},
   "outputs": [
    {
     "data": {
      "text/plain": [
       "(60000, 28, 28, 1)"
      ]
     },
     "execution_count": 13,
     "metadata": {},
     "output_type": "execute_result"
    }
   ],
   "source": [
    "x_train.shape"
   ]
  },
  {
   "cell_type": "code",
   "execution_count": 14,
   "metadata": {},
   "outputs": [],
   "source": [
    "loss_fn = tf.keras.losses.SparseCategoricalCrossentropy(from_logits=True)"
   ]
  },
  {
   "cell_type": "code",
   "execution_count": 15,
   "metadata": {},
   "outputs": [],
   "source": [
    "model.compile(optimizer='adam',\n",
    "              loss=loss_fn,\n",
    "              metrics=['accuracy'])"
   ]
  },
  {
   "cell_type": "code",
   "execution_count": 16,
   "metadata": {},
   "outputs": [
    {
     "name": "stdout",
     "output_type": "stream",
     "text": [
      "2021-01-10 13:56:01.898178\n",
      "Epoch 1/20\n",
      "938/938 [==============================] - 4s 4ms/step - loss: 0.1480 - accuracy: 0.9551 - val_loss: 0.0593 - val_accuracy: 0.9812\n",
      "Epoch 2/20\n",
      "938/938 [==============================] - 3s 4ms/step - loss: 0.0594 - accuracy: 0.9812 - val_loss: 0.0536 - val_accuracy: 0.9822\n",
      "Epoch 3/20\n",
      "938/938 [==============================] - 3s 3ms/step - loss: 0.0466 - accuracy: 0.9857 - val_loss: 0.0488 - val_accuracy: 0.9843\n",
      "Epoch 4/20\n",
      "938/938 [==============================] - 4s 4ms/step - loss: 0.0344 - accuracy: 0.9895 - val_loss: 0.0450 - val_accuracy: 0.9854\n",
      "Epoch 5/20\n",
      "938/938 [==============================] - 3s 4ms/step - loss: 0.0306 - accuracy: 0.9904 - val_loss: 0.0504 - val_accuracy: 0.9847\n",
      "Epoch 6/20\n",
      "938/938 [==============================] - 3s 3ms/step - loss: 0.0263 - accuracy: 0.9919 - val_loss: 0.0652 - val_accuracy: 0.9819\n",
      "Epoch 7/20\n",
      "938/938 [==============================] - 3s 4ms/step - loss: 0.0246 - accuracy: 0.9917 - val_loss: 0.0524 - val_accuracy: 0.9836\n",
      "Epoch 8/20\n",
      "938/938 [==============================] - 3s 4ms/step - loss: 0.0210 - accuracy: 0.9932 - val_loss: 0.0663 - val_accuracy: 0.9844\n",
      "Epoch 9/20\n",
      "938/938 [==============================] - 3s 3ms/step - loss: 0.0204 - accuracy: 0.9931 - val_loss: 0.0678 - val_accuracy: 0.9827\n",
      "Epoch 10/20\n",
      "938/938 [==============================] - 4s 4ms/step - loss: 0.0165 - accuracy: 0.9949 - val_loss: 0.0884 - val_accuracy: 0.9781\n",
      "Epoch 11/20\n",
      "938/938 [==============================] - 4s 4ms/step - loss: 0.0185 - accuracy: 0.9938 - val_loss: 0.0792 - val_accuracy: 0.9820\n",
      "Epoch 12/20\n",
      "938/938 [==============================] - 4s 4ms/step - loss: 0.0182 - accuracy: 0.9942 - val_loss: 0.0698 - val_accuracy: 0.9833\n",
      "Epoch 13/20\n",
      "938/938 [==============================] - 3s 4ms/step - loss: 0.0138 - accuracy: 0.9951 - val_loss: 0.0855 - val_accuracy: 0.9811\n",
      "Epoch 14/20\n",
      "938/938 [==============================] - 4s 4ms/step - loss: 0.0147 - accuracy: 0.9949 - val_loss: 0.0973 - val_accuracy: 0.9818\n",
      "Epoch 15/20\n",
      "938/938 [==============================] - 3s 3ms/step - loss: 0.0147 - accuracy: 0.9953 - val_loss: 0.0733 - val_accuracy: 0.9861\n",
      "Epoch 16/20\n",
      "938/938 [==============================] - 3s 3ms/step - loss: 0.0112 - accuracy: 0.9965 - val_loss: 0.0810 - val_accuracy: 0.9853\n",
      "Epoch 17/20\n",
      "938/938 [==============================] - 3s 4ms/step - loss: 0.0136 - accuracy: 0.9957 - val_loss: 0.0941 - val_accuracy: 0.9829\n",
      "Epoch 18/20\n",
      "938/938 [==============================] - 3s 3ms/step - loss: 0.0138 - accuracy: 0.9955 - val_loss: 0.0872 - val_accuracy: 0.9843\n",
      "Epoch 19/20\n",
      "938/938 [==============================] - 3s 3ms/step - loss: 0.0117 - accuracy: 0.9962 - val_loss: 0.0949 - val_accuracy: 0.9832\n",
      "Epoch 20/20\n",
      "938/938 [==============================] - 3s 3ms/step - loss: 0.0099 - accuracy: 0.9971 - val_loss: 0.1026 - val_accuracy: 0.9842\n",
      "2021-01-10 13:57:10.613145\n"
     ]
    }
   ],
   "source": [
    "print(datetime.now())\n",
    "model.fit(x_train, y_train, epochs=20, batch_size=64, validation_data=(x_test, y_test))\n",
    "print(datetime.now())"
   ]
  },
  {
   "cell_type": "code",
   "execution_count": 17,
   "metadata": {},
   "outputs": [],
   "source": [
    "def convert_to_tflite(model):\n",
    "    # Convert the tensorflow model into a tflite file.\n",
    "    converter = tf.lite.TFLiteConverter.from_keras_model(model)\n",
    "    tflite_model = converter.convert()\n",
    "\n",
    "    # Save the model.\n",
    "    with open('model.tflite', 'wb') as f:\n",
    "        f.write(tflite_model)"
   ]
  }
 ],
 "metadata": {
  "kernelspec": {
   "display_name": "Python 3",
   "language": "python",
   "name": "python3"
  },
  "language_info": {
   "codemirror_mode": {
    "name": "ipython",
    "version": 3
   },
   "file_extension": ".py",
   "mimetype": "text/x-python",
   "name": "python",
   "nbconvert_exporter": "python",
   "pygments_lexer": "ipython3",
   "version": "3.7.4"
  }
 },
 "nbformat": 4,
 "nbformat_minor": 2
}
