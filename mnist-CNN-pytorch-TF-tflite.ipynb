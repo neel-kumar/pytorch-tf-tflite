{
 "cells": [
  {
   "cell_type": "markdown",
   "metadata": {},
   "source": [
    "# From PyTorch to TensorFlow to Coral TPU\n",
    "## Introduction\n",
    "### In this article, I will show you how to convert a PyTorch model to a TensorFlow model and run a TensorFlow model on a Coral TPU. To demonstrate this, I will test the model on a dataset of handwritten digits called mnist. Also, you should know Python and some PyTorch.  This is the link for the original model in PyTorch: https://github.com/neel-kumar/deep-learning-mnist/blob/master/mnist-CNN.ipynb"
   ]
  },
  {
   "cell_type": "code",
   "execution_count": 1,
   "metadata": {},
   "outputs": [],
   "source": [
    "import os\n",
    "from datetime import datetime\n",
    "\n",
    "from PIL import Image\n",
    "import matplotlib.pyplot as plt\n",
    "\n",
    "import numpy as np\n",
    "\n",
    "import tensorflow as tf\n",
    "from tensorflow.keras import datasets, layers, models\n",
    "import tflite_runtime.interpreter as tflite"
   ]
  },
  {
   "cell_type": "code",
   "execution_count": 2,
   "metadata": {},
   "outputs": [],
   "source": [
    "def open_jpg(filename):\n",
    "    return Image.open(filename)"
   ]
  },
  {
   "cell_type": "code",
   "execution_count": 3,
   "metadata": {},
   "outputs": [],
   "source": [
    "def save_jpg(a, filename):\n",
    "    ia = (a * 255).astype(np.uint8)\n",
    "    ia = np.reshape(ia, (28,28))\n",
    "    Image.fromarray(ia).save(filename)"
   ]
  },
  {
   "cell_type": "code",
   "execution_count": 4,
   "metadata": {},
   "outputs": [],
   "source": [
    "def show_img(a, dim=(28, 28)):\n",
    "    img = np.reshape(a, dim)\n",
    "    imgplot = plt.imshow(img, cmap = \"gray\")\n",
    "    plt.show()"
   ]
  },
  {
   "cell_type": "code",
   "execution_count": 5,
   "metadata": {},
   "outputs": [
    {
     "name": "stdout",
     "output_type": "stream",
     "text": [
      "GPU found\n",
      "/device:GPU:0\n"
     ]
    }
   ],
   "source": [
    "# https://stackoverflow.com/questions/37660312/how-to-run-tensorflow-on-cpu\n",
    "\n",
    "# Uncomment following to disable GPU\n",
    "# os.environ['CUDA_VISIBLE_DEVICES'] = '-1'\n",
    "\n",
    "if tf.test.gpu_device_name():\n",
    "    print('GPU found')\n",
    "else:\n",
    "    print(\"No GPU found\")\n",
    "\n",
    "print(tf.test.gpu_device_name())"
   ]
  },
  {
   "cell_type": "markdown",
   "metadata": {},
   "source": [
    "## Keras Model\n",
    "### TensorFlow includes an API, called Keras, which helps you build high level Neural Networks. This means that you only have to specify a few things, and the rest it taken care by the computer. I did this because Keras provided me with all of the controls I could need while not being that complicated. Alright, now lets go through the model in the cell just below. If you want to see the original model go to the link at the top. The model is inside of a function because we can call the function to create the model (as is done in cell 7).\n",
    "### Now lets look at the model. First, we give it a name which is in this case \"mnist-CNN-tf\".Then we can add all the other layers to create the final model. This is what each of the lines do:\n",
    "- Line 2: Create the model and give it a name\n",
    "- Line 3: Conv2D\n",
    "- Line 4: Average Pool\n",
    "- Line 5: Conv2D\n",
    "- Line 6: Flattens the layer\n",
    "- Line 7: Dense is a linear layer\n",
    "- Line 8: Dense is output layer"
   ]
  },
  {
   "cell_type": "code",
   "execution_count": 6,
   "metadata": {},
   "outputs": [],
   "source": [
    "def get_model():\n",
    "    model = models.Sequential(name = \"mnist-CNN-tf\")\n",
    "    model.add(layers.Conv2D(8, 3, padding = 'same', activation='relu', input_shape=(28, 28, 1), name = \"layer1\"))\n",
    "    model.add(layers.AveragePooling2D((2, 2), name = \"layer2\"))\n",
    "    model.add(layers.Conv2D(13, 3, padding = 'same', activation='relu', name = \"layer3\"))\n",
    "    model.add(layers.Flatten(name = \"layer4\"))\n",
    "    model.add(layers.Dense(14*14*13, name = \"layer5\"))\n",
    "    model.add(layers.Dense(10, name = \"layer6\"))\n",
    "    return model"
   ]
  },
  {
   "cell_type": "code",
   "execution_count": 7,
   "metadata": {
    "scrolled": true
   },
   "outputs": [
    {
     "name": "stdout",
     "output_type": "stream",
     "text": [
      "Model: \"mnist-CNN-tf\"\n",
      "_________________________________________________________________\n",
      "Layer (type)                 Output Shape              Param #   \n",
      "=================================================================\n",
      "layer1 (Conv2D)              (None, 28, 28, 8)         80        \n",
      "_________________________________________________________________\n",
      "layer2 (AveragePooling2D)    (None, 14, 14, 8)         0         \n",
      "_________________________________________________________________\n",
      "layer3 (Conv2D)              (None, 14, 14, 13)        949       \n",
      "_________________________________________________________________\n",
      "layer4 (Flatten)             (None, 2548)              0         \n",
      "_________________________________________________________________\n",
      "layer5 (Dense)               (None, 2548)              6494852   \n",
      "_________________________________________________________________\n",
      "layer6 (Dense)               (None, 10)                25490     \n",
      "=================================================================\n",
      "Total params: 6,521,371\n",
      "Trainable params: 6,521,371\n",
      "Non-trainable params: 0\n",
      "_________________________________________________________________\n"
     ]
    }
   ],
   "source": [
    "model = get_model()\n",
    "model.summary()"
   ]
  },
  {
   "cell_type": "code",
   "execution_count": 9,
   "metadata": {},
   "outputs": [],
   "source": [
    "#Splits the mnist data set\n",
    "\n",
    "mnist = tf.keras.datasets.mnista\n",
    "\n",
    "(x_train, y_train), (x_test, y_test) = mnist.load_data()\n",
    "\n",
    "x_train, x_test = x_train / 255.0, x_test / 255.0\n",
    "x_train = x_train.reshape(-1, 28, 28, 1)\n",
    "x_test = x_test.reshape(-1, 28, 28, 1)"
   ]
  },
  {
   "cell_type": "code",
   "execution_count": 10,
   "metadata": {},
   "outputs": [],
   "source": [
    "loss_fn = tf.keras.losses.SparseCategoricalCrossentropy(from_logits=True)"
   ]
  },
  {
   "cell_type": "code",
   "execution_count": 11,
   "metadata": {},
   "outputs": [],
   "source": [
    "model.compile(optimizer='adam', loss=loss_fn, metrics=['accuracy'])"
   ]
  },
  {
   "cell_type": "code",
   "execution_count": 12,
   "metadata": {
    "scrolled": true
   },
   "outputs": [
    {
     "name": "stdout",
     "output_type": "stream",
     "text": [
      "2021-01-10 20:02:26.339858\n",
      "Epoch 1/20\n",
      "938/938 [==============================] - 3s 4ms/step - loss: 0.1494 - accuracy: 0.9545 - val_loss: 0.0755 - val_accuracy: 0.9764\n",
      "Epoch 2/20\n",
      "938/938 [==============================] - 3s 3ms/step - loss: 0.0650 - accuracy: 0.9800 - val_loss: 0.0548 - val_accuracy: 0.9810\n",
      "Epoch 3/20\n",
      "938/938 [==============================] - 3s 3ms/step - loss: 0.0476 - accuracy: 0.9849 - val_loss: 0.0490 - val_accuracy: 0.9843\n",
      "Epoch 4/20\n",
      "938/938 [==============================] - 3s 3ms/step - loss: 0.0393 - accuracy: 0.9870 - val_loss: 0.0517 - val_accuracy: 0.9835\n",
      "Epoch 5/20\n",
      "938/938 [==============================] - 3s 3ms/step - loss: 0.0329 - accuracy: 0.9898 - val_loss: 0.0490 - val_accuracy: 0.9838\n",
      "Epoch 6/20\n",
      "938/938 [==============================] - 3s 3ms/step - loss: 0.0290 - accuracy: 0.9903 - val_loss: 0.0571 - val_accuracy: 0.9851\n",
      "Epoch 7/20\n",
      "938/938 [==============================] - 3s 3ms/step - loss: 0.0254 - accuracy: 0.9915 - val_loss: 0.0826 - val_accuracy: 0.9768\n",
      "Epoch 8/20\n",
      "938/938 [==============================] - 3s 3ms/step - loss: 0.0231 - accuracy: 0.9924 - val_loss: 0.0667 - val_accuracy: 0.9818\n",
      "Epoch 9/20\n",
      "938/938 [==============================] - 3s 3ms/step - loss: 0.0208 - accuracy: 0.9932 - val_loss: 0.0703 - val_accuracy: 0.9820\n",
      "Epoch 10/20\n",
      "938/938 [==============================] - 3s 3ms/step - loss: 0.0203 - accuracy: 0.9930 - val_loss: 0.0562 - val_accuracy: 0.9863\n",
      "Epoch 11/20\n",
      "938/938 [==============================] - 3s 3ms/step - loss: 0.0171 - accuracy: 0.9943 - val_loss: 0.0654 - val_accuracy: 0.9857\n",
      "Epoch 12/20\n",
      "938/938 [==============================] - 3s 4ms/step - loss: 0.0159 - accuracy: 0.9949 - val_loss: 0.0774 - val_accuracy: 0.9829\n",
      "Epoch 13/20\n",
      "938/938 [==============================] - 4s 4ms/step - loss: 0.0142 - accuracy: 0.9954 - val_loss: 0.0721 - val_accuracy: 0.9847\n",
      "Epoch 14/20\n",
      "938/938 [==============================] - 3s 3ms/step - loss: 0.0139 - accuracy: 0.9951 - val_loss: 0.0948 - val_accuracy: 0.9815\n",
      "Epoch 15/20\n",
      "938/938 [==============================] - 3s 3ms/step - loss: 0.0154 - accuracy: 0.9949 - val_loss: 0.0886 - val_accuracy: 0.9818\n",
      "Epoch 16/20\n",
      "938/938 [==============================] - 3s 4ms/step - loss: 0.0123 - accuracy: 0.9960 - val_loss: 0.0713 - val_accuracy: 0.9865\n",
      "Epoch 17/20\n",
      "938/938 [==============================] - 3s 4ms/step - loss: 0.0136 - accuracy: 0.9955 - val_loss: 0.0904 - val_accuracy: 0.9822\n",
      "Epoch 18/20\n",
      "938/938 [==============================] - 3s 3ms/step - loss: 0.0132 - accuracy: 0.9958 - val_loss: 0.0759 - val_accuracy: 0.9855\n",
      "Epoch 19/20\n",
      "938/938 [==============================] - 3s 3ms/step - loss: 0.0106 - accuracy: 0.9963 - val_loss: 0.0770 - val_accuracy: 0.9844\n",
      "Epoch 20/20\n",
      "938/938 [==============================] - 3s 3ms/step - loss: 0.0090 - accuracy: 0.9971 - val_loss: 0.1053 - val_accuracy: 0.9828\n",
      "2021-01-10 20:03:58.026584\n"
     ]
    }
   ],
   "source": [
    "# Running the model for 20 epochs with a batch size of 64\n",
    "print(datetime.now())\n",
    "model.fit(x_train, y_train, epochs=20, batch_size=64, validation_data=(x_test, y_test))\n",
    "print(datetime.now())"
   ]
  },
  {
   "cell_type": "code",
   "execution_count": 13,
   "metadata": {},
   "outputs": [],
   "source": [
    "predictions = model.predict(x_test[:10])"
   ]
  },
  {
   "cell_type": "code",
   "execution_count": 14,
   "metadata": {},
   "outputs": [
    {
     "data": {
      "text/plain": [
       "(array([7, 2, 1, 0, 4, 1, 4, 9, 5, 9]),\n",
       " array([7, 2, 1, 0, 4, 1, 4, 9, 5, 9], dtype=uint8))"
      ]
     },
     "execution_count": 14,
     "metadata": {},
     "output_type": "execute_result"
    }
   ],
   "source": [
    "predictions.argmax(axis=1), y_test[:10]"
   ]
  },
  {
   "cell_type": "markdown",
   "metadata": {},
   "source": [
    "## TFlite\n",
    "### Alright, now on to TensorFlow Lite, or TFlite for short, the function below converts a TensorFlow model into a TFlite file which can be run on the TPU (Tensor Processing Unit). A TPU is just a smaller version of a GPU that is made to run Tensors. The small size of this device allows you to use AI in spaces where you can't fit a proper GPU. Since the TPU is so small it will obviously be much less powerful than a proper GPU, but is is powerful enough to significantly augment a CPU's performance."
   ]
  },
  {
   "cell_type": "code",
   "execution_count": null,
   "metadata": {},
   "outputs": [],
   "source": [
    "def convert_to_tflite(model, filename):\n",
    "    # Convert the tensorflow model into a tflite file.\n",
    "    converter = tf.lite.TFLiteConverter.from_keras_model(model)\n",
    "    tflite_model = converter.convert()\n",
    "\n",
    "    # Save the model.\n",
    "    with open(filename, 'wb') as f:\n",
    "        f.write(tflite_model)\n",
    "\n",
    "mnist_tflite_filename = \"mnist.tflite\"\n",
    "convert_to_tflite(model, mnist_tflite_filename)"
   ]
  },
  {
   "cell_type": "code",
   "execution_count": 17,
   "metadata": {},
   "outputs": [],
   "source": [
    "def load_tflite_model(modelpath):\n",
    "    # Load the TFLite model and allocate tensors.\n",
    "    # Load using CPU\n",
    "    # interpreter = tf.lite.Interpreter(model_path=modelpath)\n",
    "    # Load using TPU\n",
    "    interpreter = tflite.Interpreter(model_path=modelpath,\n",
    "                                     experimental_delegates=[tflite.load_delegate('libedgetpu.so.1')])\n",
    "    interpreter.allocate_tensors()\n",
    "    return interpreter\n",
    "\n",
    "interpreter = load_tflite_model(mnist_tflite_filename)"
   ]
  },
  {
   "cell_type": "markdown",
   "metadata": {},
   "source": [
    "## Run the Model on the TPU\n",
    "### Since we created the TFlite file and loaded it onto the TPU lets run it! The function below sets up a few things before running the model on the TPU, and we can see the model is able to properly identify the image as a 9."
   ]
  },
  {
   "cell_type": "code",
   "execution_count": 19,
   "metadata": {},
   "outputs": [],
   "source": [
    "def tflite_predict(interpreter, data):\n",
    "    input_data = data.reshape(1, 28, 28, 1).astype(np.float32)\n",
    "    interpreter.set_tensor(interpreter.get_input_details()[0]['index'], input_data)\n",
    "    interpreter.invoke()\n",
    "    return interpreter.get_tensor(interpreter.get_output_details()[0]['index'])"
   ]
  },
  {
   "cell_type": "code",
   "execution_count": 20,
   "metadata": {},
   "outputs": [],
   "source": [
    "pred = tflite_predict(interpreter, x_test[9])"
   ]
  },
  {
   "cell_type": "code",
   "execution_count": 21,
   "metadata": {},
   "outputs": [
    {
     "data": {
      "text/plain": [
       "(array([9]), 9)"
      ]
     },
     "execution_count": 21,
     "metadata": {},
     "output_type": "execute_result"
    }
   ],
   "source": [
    "pred.argmax(1), y_test[9]"
   ]
  },
  {
   "cell_type": "code",
   "execution_count": 23,
   "metadata": {},
   "outputs": [
    {
     "data": {
      "image/png": "[encoded data removed]",
      "text/plain": [
       "<Figure size 432x288 with 1 Axes>"
      ]
     },
     "metadata": {
      "needs_background": "light"
     },
     "output_type": "display_data"
    }
   ],
   "source": [
    "show_img(x_test[9])"
   ]
  }
 ],
 "metadata": {
  "kernelspec": {
   "display_name": "Python 3",
   "language": "python",
   "name": "python3"
  },
  "language_info": {
   "codemirror_mode": {
    "name": "ipython",
    "version": 3
   },
   "file_extension": ".py",
   "mimetype": "text/x-python",
   "name": "python",
   "nbconvert_exporter": "python",
   "pygments_lexer": "ipython3",
   "version": "3.7.4"
  }
 },
 "nbformat": 4,
 "nbformat_minor": 2
}
